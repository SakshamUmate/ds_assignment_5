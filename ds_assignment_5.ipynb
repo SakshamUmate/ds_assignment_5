{
 "cells": [
  {
   "cell_type": "markdown",
   "id": "8f179840-acc5-4807-89c5-b254eb035329",
   "metadata": {},
   "source": [
    "Q1. Create a function which will take a list as an argument and return the product of all the numbers\r\n",
    "after creating a flat list.\r\n",
    "Use the below-given list as an argument for your function.\r\n",
    "list1 = [1,2,3,4, [44,55,66, True], False, (34,56,78,89,34), {1,2,3,3,2,1}, {1:34, \"key2\": [55, 67, 78, 89], 4: (45,\r\n",
    "22, 61, 34)}, [56, 'data science'], 'Machine Learning']"
   ]
  },
  {
   "cell_type": "code",
   "execution_count": 14,
   "id": "c4413236-55db-4a6a-863b-0051cb4503d6",
   "metadata": {},
   "outputs": [],
   "source": [
    "l = [1,2,3,4, [44,55,66, True], False, (34,56,78,89,34), {1,2,3,3,2,1}, {1:34, \"key2\": [55, 67, 78, 89], 4: (45,\n",
    "22, 61, 34)}, [56, 'data science'], 'Machine Learning']"
   ]
  },
  {
   "cell_type": "code",
   "execution_count": 56,
   "id": "2433a356-175e-4b44-b5b1-5bad5fb6d997",
   "metadata": {},
   "outputs": [
    {
     "data": {
      "text/plain": [
       "2013730282081706885067571200"
      ]
     },
     "execution_count": 56,
     "metadata": {},
     "output_type": "execute_result"
    }
   ],
   "source": [
    "def flatting_product(l):\n",
    "    l1 = []\n",
    "\n",
    "    def flatting(my_l):\n",
    "        for i in my_l:\n",
    "            if isinstance(i, (list, tuple, set)):\n",
    "                flatting(i)\n",
    "            elif isinstance(i, dict):\n",
    "                for k, v in i.items():\n",
    "                    if isinstance(v, (int, float)):\n",
    "                        l1.append(v)\n",
    "                    if isinstance(k, (int, float)):\n",
    "                        l1.append(k)\n",
    "                    else:\n",
    "                        flatting(v)    \n",
    "            else:\n",
    "                l1.append(i)\n",
    "\n",
    "    flatting(l)\n",
    "\n",
    "    pro = 1\n",
    "    new_list = [x for x in l1 if isinstance(x, (int, float))]  # Create a new list with only numbers\n",
    "    for i in new_list:\n",
    "        if isinstance(i,(bool,str)):\n",
    "            new_list.remove(i)\n",
    "        else:\n",
    "            pro *= i\n",
    "\n",
    "    return pro \n",
    "flatting_product(l)  "
   ]
  },
  {
   "cell_type": "markdown",
   "id": "582ccd93-5264-47d8-bee2-572c8c093de3",
   "metadata": {},
   "source": [
    "Q2. Write a python program for encrypting a message sent to you by your friend. The logic of encryption\n",
    "should be such that, for a the output should be z. For b, the output should be y. For c, the output should\n",
    "be x respectively. Also, the whitespace should be replaced with a dollar sign. Keep the punctuation\n",
    "marks unchanged.\n",
    "Input Sentence: I want to become a Data Scientist.\n",
    "Encrypt the above input sentence using the program you just created."
   ]
  },
  {
   "cell_type": "code",
   "execution_count": 58,
   "id": "b15fae9a-7921-4e59-87fe-1752034ae7c7",
   "metadata": {},
   "outputs": [
    {
     "name": "stdout",
     "output_type": "stream",
     "text": [
      "Original Message:  I want to become a Data Scientist.\n",
      "Encrypted Message:  r$dzmg$gl$yvxlnv$z$wzgz$hxrvmgrhg.\n"
     ]
    }
   ],
   "source": [
    "def encrypt_message(message):\n",
    "    encrypted_result = \"\"\n",
    "    \n",
    "    for char in message.lower():\n",
    "        if char.isalpha():\n",
    "            # Encrypt alphabets\n",
    "            if char.islower():\n",
    "                encrypted_result += chr(ord('z') - (ord(char) - ord('a')))\n",
    "        elif char.isspace():\n",
    "            # Replace whitespace with a dollar sign\n",
    "            encrypted_result += '$'\n",
    "        else:\n",
    "            # Keep punctuation marks unchanged\n",
    "            encrypted_result += char\n",
    "    \n",
    "    return encrypted_result\n",
    "\n",
    "# Input Sentence\n",
    "input_sentence = \"I want to become a Data Scientist.\"\n",
    "\n",
    "# Encrypt the message\n",
    "encrypted_message = encrypt_message(input_sentence)\n",
    "\n",
    "# Print the result\n",
    "print(\"Original Message: \", input_sentence)\n",
    "print(\"Encrypted Message: \", encrypted_message)\n"
   ]
  },
  {
   "cell_type": "code",
   "execution_count": null,
   "id": "589295e1-0ee9-4971-a042-4cbb5524f277",
   "metadata": {},
   "outputs": [],
   "source": [
    "\n"
   ]
  },
  {
   "cell_type": "code",
   "execution_count": null,
   "id": "4f824af3-569e-4ff4-9ba3-3ad7290f7653",
   "metadata": {},
   "outputs": [],
   "source": []
  }
 ],
 "metadata": {
  "kernelspec": {
   "display_name": "Python 3 (ipykernel)",
   "language": "python",
   "name": "python3"
  },
  "language_info": {
   "codemirror_mode": {
    "name": "ipython",
    "version": 3
   },
   "file_extension": ".py",
   "mimetype": "text/x-python",
   "name": "python",
   "nbconvert_exporter": "python",
   "pygments_lexer": "ipython3",
   "version": "3.11.4"
  }
 },
 "nbformat": 4,
 "nbformat_minor": 5
}
